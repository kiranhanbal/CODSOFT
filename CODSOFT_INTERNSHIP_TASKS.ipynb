{
  "cells": [
    {
      "cell_type": "markdown",
      "metadata": {
        "id": "view-in-github",
        "colab_type": "text"
      },
      "source": [
        "<a href=\"https://colab.research.google.com/github/kiranhanbal/CODSOFT/blob/main/CODSOFT_INTERNSHIP_TASKS.ipynb\" target=\"_parent\"><img src=\"https://colab.research.google.com/assets/colab-badge.svg\" alt=\"Open In Colab\"/></a>"
      ]
    },
    {
      "cell_type": "markdown",
      "metadata": {
        "id": "V1Q1tD8H1J2B"
      },
      "source": [
        "#CodSoft Internship - Python Programming"
      ]
    },
    {
      "cell_type": "markdown",
      "source": [
        "#for NOVEMBER BATCH A85 CODSOFT INTERNSHIP PROGRAM"
      ],
      "metadata": {
        "id": "wwQEm_yCLx_X"
      }
    },
    {
      "cell_type": "markdown",
      "source": [
        "Author Name : Kiran V D"
      ],
      "metadata": {
        "id": "DF6W3jfUMPhi"
      }
    },
    {
      "cell_type": "markdown",
      "metadata": {
        "id": "L2Gxj0mH1QWj"
      },
      "source": [
        "#Task/Project-1  # Calculator Program"
      ]
    },
    {
      "cell_type": "code",
      "execution_count": null,
      "metadata": {
        "colab": {
          "base_uri": "https://localhost:8080/"
        },
        "id": "oY9AL4ax0OcB",
        "outputId": "7e43ea25-649e-49f3-9d31-7f5696ca6a82"
      },
      "outputs": [
        {
          "name": "stdout",
          "output_type": "stream",
          "text": [
            "Choose an operation to perform:\n",
            "1. Addition (+)\n",
            "2. Subtraction (-)\n",
            "3. Multiplication (*)\n",
            "4. Division (/)\n",
            "Prompting for the first number...\n",
            "Enter the first number: 7\n",
            "First number entered: 7.0\n",
            "Prompting for the second number...\n",
            "Enter the second number: 8\n",
            "Second number entered: 8.0\n",
            "Enter the operation (+, -, *, /): +\n",
            "Operation chosen: +\n",
            "The result is: 15.0\n"
          ]
        }
      ],
      "source": [
        "# Calculator Program\n",
        "\n",
        "\n",
        "# Function Definitions for Basic Arithmetic Operations\n",
        "def add(a, b):\n",
        "    return a + b    # Returns the sum of two numbers\n",
        "\n",
        "def subtract(a, b):\n",
        "    return a - b    # Returns the difference of two numbers\n",
        "\n",
        "def multiply(a, b):\n",
        "    return a * b    # Returns the product of two numbers\n",
        "\n",
        "def divide(a, b):\n",
        "    if b == 0:      # Handles division by zero\n",
        "        return \"Error! Division by zero is not allowed.\"\n",
        "    return a / b    # Returns the division of two numbers\n",
        "\n",
        "# Main Program: User Interaction and Calculation\n",
        "if __name__ == \"__main__\":\n",
        "    print(\"Choose an operation to perform:\")\n",
        "    print(\"1. Addition (+)\")\n",
        "    print(\"2. Subtraction (-)\")\n",
        "    print(\"3. Multiplication (*)\")\n",
        "    print(\"4. Division (/)\")\n",
        "\n",
        "    # Taking input from the user\n",
        "    try:\n",
        "        # Debugging prompts for user input\n",
        "        print(\"Prompting for the first number...\")\n",
        "        num1 = float(input(\"Enter the first number: \"))\n",
        "        print(\"First number entered:\", num1)\n",
        "\n",
        "        print(\"Prompting for the second number...\")\n",
        "        num2 = float(input(\"Enter the second number: \"))\n",
        "        print(\"Second number entered:\", num2)\n",
        "\n",
        "        operation = input(\"Enter the operation (+, -, *, /): \").strip()\n",
        "        print(\"Operation chosen:\", operation)\n",
        "\n",
        "        # Perform the calculation based on user choice\n",
        "        if operation == \"+\":    # Perform addition\n",
        "            result = add(num1, num2)\n",
        "        elif operation == \"-\":    # Perform subtraction\n",
        "            result = subtract(num1, num2)\n",
        "        elif operation == \"*\":    # Perform multiplication\n",
        "            result = multiply(num1, num2)\n",
        "        elif operation == \"/\":    # Perform division\n",
        "            result = divide(num1, num2)\n",
        "        else:\n",
        "            result = \"Invalid operation! Please choose +, -, *, or /.\"    # Handle invalid input\n",
        "\n",
        "        # Display the result\n",
        "        print(f\"The result is: {result}\")\n",
        "    except ValueError:\n",
        "        print(\"Invalid input! Please enter numeric values.\")\n"
      ]
    },
    {
      "cell_type": "markdown",
      "metadata": {
        "id": "BzhzX9oI_ue2"
      },
      "source": [
        "#Task/Project-2 # Contact Book Program"
      ]
    },
    {
      "cell_type": "code",
      "execution_count": null,
      "metadata": {
        "colab": {
          "background_save": true,
          "base_uri": "https://localhost:8080/"
        },
        "id": "2nHNwVYA0nky",
        "outputId": "936640ac-9871-4277-f94b-ac68b7fb8312"
      },
      "outputs": [
        {
          "name": "stdout",
          "output_type": "stream",
          "text": [
            "\n",
            "--- Contact Book Menu ---\n",
            "1. Add Contact\n",
            "2. View Contacts\n",
            "3. Search Contact\n",
            "4. Update Contact\n",
            "5. Delete Contact\n",
            "6. Exit\n",
            "\n",
            "--- Add New Contact ---\n"
          ]
        }
      ],
      "source": [
        "# Contact Book Program\n",
        "\n",
        "# Initialize an empty list to store contacts\n",
        "contacts = []\n",
        "\n",
        "# Function to add a new contact\n",
        "def add_contact():\n",
        "    print(\"\\n--- Add New Contact ---\")\n",
        "    name = input(\"Enter Name: \")\n",
        "    phone = input(\"Enter Phone Number: \")\n",
        "    email = input(\"Enter Email: \")\n",
        "    address = input(\"Enter Address: \")\n",
        "    contacts.append({\"name\": name, \"phone\": phone, \"email\": email, \"address\": address})\n",
        "    print(f\"Contact '{name}' added successfully!\")\n",
        "\n",
        "# Function to view all contacts\n",
        "def view_contacts():\n",
        "    print(\"\\n--- Contact List ---\")\n",
        "    if not contacts:\n",
        "        print(\"No contacts available.\")\n",
        "        return\n",
        "    for i, contact in enumerate(contacts, start=1):\n",
        "        print(f\"{i}. Name: {contact['name']}, Phone: {contact['phone']}\")\n",
        "\n",
        "# Function to search for a contact by name or phone number\n",
        "def search_contact():\n",
        "    print(\"\\n--- Search Contact ---\")\n",
        "    query = input(\"Enter Name or Phone Number to search: \").lower()\n",
        "    found_contacts = [c for c in contacts if query in c['name'].lower() or query in c['phone']]\n",
        "    if not found_contacts:\n",
        "        print(\"No matching contacts found.\")\n",
        "    else:\n",
        "        for contact in found_contacts:\n",
        "            print(f\"Name: {contact['name']}, Phone: {contact['phone']}, Email: {contact['email']}, Address: {contact['address']}\")\n",
        "\n",
        "# Function to update a contact\n",
        "def update_contact():\n",
        "    print(\"\\n--- Update Contact ---\")\n",
        "    query = input(\"Enter Name or Phone Number of the contact to update: \").lower()\n",
        "    for contact in contacts:\n",
        "        if query in contact['name'].lower() or query in contact['phone']:\n",
        "            print(f\"Current Details: {contact}\")\n",
        "            contact['name'] = input(\"Enter New Name: \") or contact['name']\n",
        "            contact['phone'] = input(\"Enter New Phone Number: \") or contact['phone']\n",
        "            contact['email'] = input(\"Enter New Email: \") or contact['email']\n",
        "            contact['address'] = input(\"Enter New Address: \") or contact['address']\n",
        "            print(\"Contact updated successfully!\")\n",
        "            return\n",
        "    print(\"Contact not found.\")\n",
        "\n",
        "# Function to delete a contact\n",
        "def delete_contact():\n",
        "    print(\"\\n--- Delete Contact ---\")\n",
        "    query = input(\"Enter Name or Phone Number of the contact to delete: \").lower()\n",
        "    for contact in contacts:\n",
        "        if query in contact['name'].lower() or query in contact['phone']:\n",
        "            contacts.remove(contact)\n",
        "            print(\"Contact deleted successfully!\")\n",
        "            return\n",
        "    print(\"Contact not found.\")\n",
        "\n",
        "# Main program menu\n",
        "def main():\n",
        "    while True:\n",
        "        print(\"\\n--- Contact Book Menu ---\")\n",
        "        print(\"1. Add Contact\")\n",
        "        print(\"2. View Contacts\")\n",
        "        print(\"3. Search Contact\")\n",
        "        print(\"4. Update Contact\")\n",
        "        print(\"5. Delete Contact\")\n",
        "        print(\"6. Exit\")\n",
        "        choice = input(\"Enter your choice (1-6): \")\n",
        "\n",
        "        if choice == \"1\":\n",
        "            add_contact()\n",
        "        elif choice == \"2\":\n",
        "            view_contacts()\n",
        "        elif choice == \"3\":\n",
        "            search_contact()\n",
        "        elif choice == \"4\":\n",
        "            update_contact()\n",
        "        elif choice == \"5\":\n",
        "            delete_contact()\n",
        "        elif choice == \"6\":\n",
        "            print(\"Exiting Contact Book\")\n",
        "            break\n",
        "        else:\n",
        "            print(\"Invalid choice! Please try again.\")\n",
        "\n",
        "# Run the program\n",
        "if __name__ == \"__main__\":\n",
        "    main()\n"
      ]
    },
    {
      "cell_type": "markdown",
      "source": [
        "#Task/Project-2 # Password Generator Program"
      ],
      "metadata": {
        "id": "qWG7naY-LWil"
      }
    },
    {
      "cell_type": "code",
      "execution_count": 1,
      "metadata": {
        "id": "SIlnmOl-YqMI",
        "colab": {
          "base_uri": "https://localhost:8080/"
        },
        "outputId": "5352834c-6c14-4c45-ff32-9e9afd12ab46"
      },
      "outputs": [
        {
          "output_type": "stream",
          "name": "stdout",
          "text": [
            "--- Password Generator ---\n",
            "Enter the desired password length: 8\n",
            "Generated Password: v9n[{3{E\n"
          ]
        }
      ],
      "source": [
        "# Password Generator Program\n",
        "\n",
        "\n",
        "import random  # Importing random module for generating random characters\n",
        "import string  # Importing string module for character sets\n",
        "\n",
        "def generate_password(length):\n",
        "    \"\"\"\n",
        "    Function to generate a random password of the specified length.\n",
        "    Combines letters, digits, and special characters for a strong password.\n",
        "    \"\"\"\n",
        "    # Define the character pool: letters, digits, and punctuation\n",
        "    characters = string.ascii_letters + string.digits + string.punctuation\n",
        "\n",
        "    # Generate a random password by picking random characters from the pool\n",
        "    password = ''.join(random.choice(characters) for _ in range(length))\n",
        "    return password\n",
        "\n",
        "def main():\n",
        "    \"\"\"\n",
        "    Main function to prompt the user for input and generate the password.\n",
        "    \"\"\"\n",
        "    print(\"--- Password Generator ---\")\n",
        "\n",
        "    try:\n",
        "        # Ask the user to specify the desired password length\n",
        "        length = int(input(\"Enter the desired password length: \"))\n",
        "\n",
        "        # Ensure the password length is reasonable\n",
        "        if length < 6:\n",
        "            print(\"Password length should be at least 6 characters for better security.\")\n",
        "        else:\n",
        "            # Generate and display the password\n",
        "            password = generate_password(length)\n",
        "            print(f\"Generated Password: {password}\")\n",
        "    except ValueError:\n",
        "        print(\"Invalid input! Please enter a numeric value for the password length.\")\n",
        "\n",
        "# Run the program\n",
        "if __name__ == \"__main__\":\n",
        "    main()\n"
      ]
    },
    {
      "cell_type": "code",
      "execution_count": null,
      "metadata": {
        "id": "uVUXHCo-N_cf"
      },
      "outputs": [],
      "source": []
    }
  ],
  "metadata": {
    "colab": {
      "provenance": [],
      "authorship_tag": "ABX9TyNkZrcJWe3h9zUuSaUBcO1A",
      "include_colab_link": true
    },
    "kernelspec": {
      "display_name": "Python 3",
      "name": "python3"
    },
    "language_info": {
      "name": "python"
    }
  },
  "nbformat": 4,
  "nbformat_minor": 0
}